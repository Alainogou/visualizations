{
 "cells": [
  {
   "cell_type": "code",
   "execution_count": null,
   "id": "a3822425-a3c4-43a2-beda-426000434329",
   "metadata": {},
   "outputs": [],
   "source": []
  }
 ],
 "metadata": {
  "kernelspec": {
   "display_name": "",
   "name": ""
  },
  "language_info": {
   "name": ""
  }
 },
 "nbformat": 4,
 "nbformat_minor": 5
}
